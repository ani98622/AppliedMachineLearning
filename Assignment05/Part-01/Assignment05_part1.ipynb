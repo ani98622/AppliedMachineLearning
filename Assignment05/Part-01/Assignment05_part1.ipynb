{
  "nbformat": 4,
  "nbformat_minor": 0,
  "metadata": {
    "colab": {
      "provenance": [],
      "gpuType": "T4"
    },
    "kernelspec": {
      "name": "python3",
      "display_name": "Python 3"
    },
    "language_info": {
      "name": "python"
    },
    "accelerator": "GPU"
  },
  "cells": [
    {
      "cell_type": "markdown",
      "source": [
        "### Step 0: Extract the dataset"
      ],
      "metadata": {
        "id": "DglIIkxD-VqE"
      }
    },
    {
      "cell_type": "code",
      "source": [
        "import zipfile\n",
        "import os\n",
        "\n",
        "# Set path to your zip file and extract location\n",
        "zip_path = '/content/drive/MyDrive/archive.zip'\n",
        "extract_dir = '/content/drive/MyDrive/chicken_duck_dataset/'\n",
        "\n",
        "# Extract zip file\n",
        "with zipfile.ZipFile(zip_path, 'r') as zip_ref:\n",
        "    zip_ref.extractall(extract_dir)\n",
        "\n",
        "print(\"Zip file extracted to:\", extract_dir)"
      ],
      "metadata": {
        "colab": {
          "base_uri": "https://localhost:8080/"
        },
        "id": "UpG0y9EAC5J1",
        "outputId": "f9fcf51b-8f99-4525-f093-62c8d53e02bc"
      },
      "execution_count": 1,
      "outputs": [
        {
          "output_type": "stream",
          "name": "stdout",
          "text": [
            "Zip file extracted to: /content/drive/MyDrive/chicken_duck_dataset/\n"
          ]
        }
      ]
    },
    {
      "cell_type": "markdown",
      "source": [
        "### Step 1: Install and import dependencies"
      ],
      "metadata": {
        "id": "l6nF5RXF5OoC"
      }
    },
    {
      "cell_type": "code",
      "source": [
        "!pip install torch torchvision matplotlib scikit-learn"
      ],
      "metadata": {
        "colab": {
          "base_uri": "https://localhost:8080/"
        },
        "collapsed": true,
        "id": "hsidRvG3-f4K",
        "outputId": "231dd434-aea8-440f-f60a-1b1a61991667"
      },
      "execution_count": 2,
      "outputs": [
        {
          "output_type": "stream",
          "name": "stdout",
          "text": [
            "Requirement already satisfied: torch in /usr/local/lib/python3.11/dist-packages (2.5.1+cu124)\n",
            "Requirement already satisfied: torchvision in /usr/local/lib/python3.11/dist-packages (0.20.1+cu124)\n",
            "Requirement already satisfied: matplotlib in /usr/local/lib/python3.11/dist-packages (3.10.0)\n",
            "Requirement already satisfied: scikit-learn in /usr/local/lib/python3.11/dist-packages (1.6.1)\n",
            "Requirement already satisfied: filelock in /usr/local/lib/python3.11/dist-packages (from torch) (3.17.0)\n",
            "Requirement already satisfied: typing-extensions>=4.8.0 in /usr/local/lib/python3.11/dist-packages (from torch) (4.12.2)\n",
            "Requirement already satisfied: networkx in /usr/local/lib/python3.11/dist-packages (from torch) (3.4.2)\n",
            "Requirement already satisfied: jinja2 in /usr/local/lib/python3.11/dist-packages (from torch) (3.1.5)\n",
            "Requirement already satisfied: fsspec in /usr/local/lib/python3.11/dist-packages (from torch) (2024.10.0)\n",
            "Collecting nvidia-cuda-nvrtc-cu12==12.4.127 (from torch)\n",
            "  Downloading nvidia_cuda_nvrtc_cu12-12.4.127-py3-none-manylinux2014_x86_64.whl.metadata (1.5 kB)\n",
            "Collecting nvidia-cuda-runtime-cu12==12.4.127 (from torch)\n",
            "  Downloading nvidia_cuda_runtime_cu12-12.4.127-py3-none-manylinux2014_x86_64.whl.metadata (1.5 kB)\n",
            "Collecting nvidia-cuda-cupti-cu12==12.4.127 (from torch)\n",
            "  Downloading nvidia_cuda_cupti_cu12-12.4.127-py3-none-manylinux2014_x86_64.whl.metadata (1.6 kB)\n",
            "Collecting nvidia-cudnn-cu12==9.1.0.70 (from torch)\n",
            "  Downloading nvidia_cudnn_cu12-9.1.0.70-py3-none-manylinux2014_x86_64.whl.metadata (1.6 kB)\n",
            "Collecting nvidia-cublas-cu12==12.4.5.8 (from torch)\n",
            "  Downloading nvidia_cublas_cu12-12.4.5.8-py3-none-manylinux2014_x86_64.whl.metadata (1.5 kB)\n",
            "Collecting nvidia-cufft-cu12==11.2.1.3 (from torch)\n",
            "  Downloading nvidia_cufft_cu12-11.2.1.3-py3-none-manylinux2014_x86_64.whl.metadata (1.5 kB)\n",
            "Collecting nvidia-curand-cu12==10.3.5.147 (from torch)\n",
            "  Downloading nvidia_curand_cu12-10.3.5.147-py3-none-manylinux2014_x86_64.whl.metadata (1.5 kB)\n",
            "Collecting nvidia-cusolver-cu12==11.6.1.9 (from torch)\n",
            "  Downloading nvidia_cusolver_cu12-11.6.1.9-py3-none-manylinux2014_x86_64.whl.metadata (1.6 kB)\n",
            "Collecting nvidia-cusparse-cu12==12.3.1.170 (from torch)\n",
            "  Downloading nvidia_cusparse_cu12-12.3.1.170-py3-none-manylinux2014_x86_64.whl.metadata (1.6 kB)\n",
            "Requirement already satisfied: nvidia-nccl-cu12==2.21.5 in /usr/local/lib/python3.11/dist-packages (from torch) (2.21.5)\n",
            "Requirement already satisfied: nvidia-nvtx-cu12==12.4.127 in /usr/local/lib/python3.11/dist-packages (from torch) (12.4.127)\n",
            "Collecting nvidia-nvjitlink-cu12==12.4.127 (from torch)\n",
            "  Downloading nvidia_nvjitlink_cu12-12.4.127-py3-none-manylinux2014_x86_64.whl.metadata (1.5 kB)\n",
            "Requirement already satisfied: triton==3.1.0 in /usr/local/lib/python3.11/dist-packages (from torch) (3.1.0)\n",
            "Requirement already satisfied: sympy==1.13.1 in /usr/local/lib/python3.11/dist-packages (from torch) (1.13.1)\n",
            "Requirement already satisfied: mpmath<1.4,>=1.1.0 in /usr/local/lib/python3.11/dist-packages (from sympy==1.13.1->torch) (1.3.0)\n",
            "Requirement already satisfied: numpy in /usr/local/lib/python3.11/dist-packages (from torchvision) (1.26.4)\n",
            "Requirement already satisfied: pillow!=8.3.*,>=5.3.0 in /usr/local/lib/python3.11/dist-packages (from torchvision) (11.1.0)\n",
            "Requirement already satisfied: contourpy>=1.0.1 in /usr/local/lib/python3.11/dist-packages (from matplotlib) (1.3.1)\n",
            "Requirement already satisfied: cycler>=0.10 in /usr/local/lib/python3.11/dist-packages (from matplotlib) (0.12.1)\n",
            "Requirement already satisfied: fonttools>=4.22.0 in /usr/local/lib/python3.11/dist-packages (from matplotlib) (4.56.0)\n",
            "Requirement already satisfied: kiwisolver>=1.3.1 in /usr/local/lib/python3.11/dist-packages (from matplotlib) (1.4.8)\n",
            "Requirement already satisfied: packaging>=20.0 in /usr/local/lib/python3.11/dist-packages (from matplotlib) (24.2)\n",
            "Requirement already satisfied: pyparsing>=2.3.1 in /usr/local/lib/python3.11/dist-packages (from matplotlib) (3.2.1)\n",
            "Requirement already satisfied: python-dateutil>=2.7 in /usr/local/lib/python3.11/dist-packages (from matplotlib) (2.8.2)\n",
            "Requirement already satisfied: scipy>=1.6.0 in /usr/local/lib/python3.11/dist-packages (from scikit-learn) (1.13.1)\n",
            "Requirement already satisfied: joblib>=1.2.0 in /usr/local/lib/python3.11/dist-packages (from scikit-learn) (1.4.2)\n",
            "Requirement already satisfied: threadpoolctl>=3.1.0 in /usr/local/lib/python3.11/dist-packages (from scikit-learn) (3.5.0)\n",
            "Requirement already satisfied: six>=1.5 in /usr/local/lib/python3.11/dist-packages (from python-dateutil>=2.7->matplotlib) (1.17.0)\n",
            "Requirement already satisfied: MarkupSafe>=2.0 in /usr/local/lib/python3.11/dist-packages (from jinja2->torch) (3.0.2)\n",
            "Downloading nvidia_cublas_cu12-12.4.5.8-py3-none-manylinux2014_x86_64.whl (363.4 MB)\n",
            "\u001b[2K   \u001b[90m━━━━━━━━━━━━━━━━━━━━━━━━━━━━━━━━━━━━━━━━\u001b[0m \u001b[32m363.4/363.4 MB\u001b[0m \u001b[31m4.1 MB/s\u001b[0m eta \u001b[36m0:00:00\u001b[0m\n",
            "\u001b[?25hDownloading nvidia_cuda_cupti_cu12-12.4.127-py3-none-manylinux2014_x86_64.whl (13.8 MB)\n",
            "\u001b[2K   \u001b[90m━━━━━━━━━━━━━━━━━━━━━━━━━━━━━━━━━━━━━━━━\u001b[0m \u001b[32m13.8/13.8 MB\u001b[0m \u001b[31m107.9 MB/s\u001b[0m eta \u001b[36m0:00:00\u001b[0m\n",
            "\u001b[?25hDownloading nvidia_cuda_nvrtc_cu12-12.4.127-py3-none-manylinux2014_x86_64.whl (24.6 MB)\n",
            "\u001b[2K   \u001b[90m━━━━━━━━━━━━━━━━━━━━━━━━━━━━━━━━━━━━━━━━\u001b[0m \u001b[32m24.6/24.6 MB\u001b[0m \u001b[31m86.6 MB/s\u001b[0m eta \u001b[36m0:00:00\u001b[0m\n",
            "\u001b[?25hDownloading nvidia_cuda_runtime_cu12-12.4.127-py3-none-manylinux2014_x86_64.whl (883 kB)\n",
            "\u001b[2K   \u001b[90m━━━━━━━━━━━━━━━━━━━━━━━━━━━━━━━━━━━━━━━━\u001b[0m \u001b[32m883.7/883.7 kB\u001b[0m \u001b[31m56.8 MB/s\u001b[0m eta \u001b[36m0:00:00\u001b[0m\n",
            "\u001b[?25hDownloading nvidia_cudnn_cu12-9.1.0.70-py3-none-manylinux2014_x86_64.whl (664.8 MB)\n",
            "\u001b[2K   \u001b[90m━━━━━━━━━━━━━━━━━━━━━━━━━━━━━━━━━━━━━━━━\u001b[0m \u001b[32m664.8/664.8 MB\u001b[0m \u001b[31m2.0 MB/s\u001b[0m eta \u001b[36m0:00:00\u001b[0m\n",
            "\u001b[?25hDownloading nvidia_cufft_cu12-11.2.1.3-py3-none-manylinux2014_x86_64.whl (211.5 MB)\n",
            "\u001b[2K   \u001b[90m━━━━━━━━━━━━━━━━━━━━━━━━━━━━━━━━━━━━━━━━\u001b[0m \u001b[32m211.5/211.5 MB\u001b[0m \u001b[31m5.5 MB/s\u001b[0m eta \u001b[36m0:00:00\u001b[0m\n",
            "\u001b[?25hDownloading nvidia_curand_cu12-10.3.5.147-py3-none-manylinux2014_x86_64.whl (56.3 MB)\n",
            "\u001b[2K   \u001b[90m━━━━━━━━━━━━━━━━━━━━━━━━━━━━━━━━━━━━━━━━\u001b[0m \u001b[32m56.3/56.3 MB\u001b[0m \u001b[31m12.1 MB/s\u001b[0m eta \u001b[36m0:00:00\u001b[0m\n",
            "\u001b[?25hDownloading nvidia_cusolver_cu12-11.6.1.9-py3-none-manylinux2014_x86_64.whl (127.9 MB)\n",
            "\u001b[2K   \u001b[90m━━━━━━━━━━━━━━━━━━━━━━━━━━━━━━━━━━━━━━━━\u001b[0m \u001b[32m127.9/127.9 MB\u001b[0m \u001b[31m6.9 MB/s\u001b[0m eta \u001b[36m0:00:00\u001b[0m\n",
            "\u001b[?25hDownloading nvidia_cusparse_cu12-12.3.1.170-py3-none-manylinux2014_x86_64.whl (207.5 MB)\n",
            "\u001b[2K   \u001b[90m━━━━━━━━━━━━━━━━━━━━━━━━━━━━━━━━━━━━━━━━\u001b[0m \u001b[32m207.5/207.5 MB\u001b[0m \u001b[31m6.0 MB/s\u001b[0m eta \u001b[36m0:00:00\u001b[0m\n",
            "\u001b[?25hDownloading nvidia_nvjitlink_cu12-12.4.127-py3-none-manylinux2014_x86_64.whl (21.1 MB)\n",
            "\u001b[2K   \u001b[90m━━━━━━━━━━━━━━━━━━━━━━━━━━━━━━━━━━━━━━━━\u001b[0m \u001b[32m21.1/21.1 MB\u001b[0m \u001b[31m83.6 MB/s\u001b[0m eta \u001b[36m0:00:00\u001b[0m\n",
            "\u001b[?25hInstalling collected packages: nvidia-nvjitlink-cu12, nvidia-curand-cu12, nvidia-cufft-cu12, nvidia-cuda-runtime-cu12, nvidia-cuda-nvrtc-cu12, nvidia-cuda-cupti-cu12, nvidia-cublas-cu12, nvidia-cusparse-cu12, nvidia-cudnn-cu12, nvidia-cusolver-cu12\n",
            "  Attempting uninstall: nvidia-nvjitlink-cu12\n",
            "    Found existing installation: nvidia-nvjitlink-cu12 12.5.82\n",
            "    Uninstalling nvidia-nvjitlink-cu12-12.5.82:\n",
            "      Successfully uninstalled nvidia-nvjitlink-cu12-12.5.82\n",
            "  Attempting uninstall: nvidia-curand-cu12\n",
            "    Found existing installation: nvidia-curand-cu12 10.3.6.82\n",
            "    Uninstalling nvidia-curand-cu12-10.3.6.82:\n",
            "      Successfully uninstalled nvidia-curand-cu12-10.3.6.82\n",
            "  Attempting uninstall: nvidia-cufft-cu12\n",
            "    Found existing installation: nvidia-cufft-cu12 11.2.3.61\n",
            "    Uninstalling nvidia-cufft-cu12-11.2.3.61:\n",
            "      Successfully uninstalled nvidia-cufft-cu12-11.2.3.61\n",
            "  Attempting uninstall: nvidia-cuda-runtime-cu12\n",
            "    Found existing installation: nvidia-cuda-runtime-cu12 12.5.82\n",
            "    Uninstalling nvidia-cuda-runtime-cu12-12.5.82:\n",
            "      Successfully uninstalled nvidia-cuda-runtime-cu12-12.5.82\n",
            "  Attempting uninstall: nvidia-cuda-nvrtc-cu12\n",
            "    Found existing installation: nvidia-cuda-nvrtc-cu12 12.5.82\n",
            "    Uninstalling nvidia-cuda-nvrtc-cu12-12.5.82:\n",
            "      Successfully uninstalled nvidia-cuda-nvrtc-cu12-12.5.82\n",
            "  Attempting uninstall: nvidia-cuda-cupti-cu12\n",
            "    Found existing installation: nvidia-cuda-cupti-cu12 12.5.82\n",
            "    Uninstalling nvidia-cuda-cupti-cu12-12.5.82:\n",
            "      Successfully uninstalled nvidia-cuda-cupti-cu12-12.5.82\n",
            "  Attempting uninstall: nvidia-cublas-cu12\n",
            "    Found existing installation: nvidia-cublas-cu12 12.5.3.2\n",
            "    Uninstalling nvidia-cublas-cu12-12.5.3.2:\n",
            "      Successfully uninstalled nvidia-cublas-cu12-12.5.3.2\n",
            "  Attempting uninstall: nvidia-cusparse-cu12\n",
            "    Found existing installation: nvidia-cusparse-cu12 12.5.1.3\n",
            "    Uninstalling nvidia-cusparse-cu12-12.5.1.3:\n",
            "      Successfully uninstalled nvidia-cusparse-cu12-12.5.1.3\n",
            "  Attempting uninstall: nvidia-cudnn-cu12\n",
            "    Found existing installation: nvidia-cudnn-cu12 9.3.0.75\n",
            "    Uninstalling nvidia-cudnn-cu12-9.3.0.75:\n",
            "      Successfully uninstalled nvidia-cudnn-cu12-9.3.0.75\n",
            "  Attempting uninstall: nvidia-cusolver-cu12\n",
            "    Found existing installation: nvidia-cusolver-cu12 11.6.3.83\n",
            "    Uninstalling nvidia-cusolver-cu12-11.6.3.83:\n",
            "      Successfully uninstalled nvidia-cusolver-cu12-11.6.3.83\n",
            "Successfully installed nvidia-cublas-cu12-12.4.5.8 nvidia-cuda-cupti-cu12-12.4.127 nvidia-cuda-nvrtc-cu12-12.4.127 nvidia-cuda-runtime-cu12-12.4.127 nvidia-cudnn-cu12-9.1.0.70 nvidia-cufft-cu12-11.2.1.3 nvidia-curand-cu12-10.3.5.147 nvidia-cusolver-cu12-11.6.1.9 nvidia-cusparse-cu12-12.3.1.170 nvidia-nvjitlink-cu12-12.4.127\n"
          ]
        }
      ]
    },
    {
      "cell_type": "code",
      "execution_count": 3,
      "metadata": {
        "collapsed": true,
        "id": "NOSkhMnF4rD8"
      },
      "outputs": [],
      "source": [
        "import os\n",
        "import glob\n",
        "import torch\n",
        "import torchvision.transforms as transforms\n",
        "from torch.utils.data import Dataset, DataLoader\n",
        "from torchvision.datasets.folder import default_loader\n",
        "import torchvision.models as models\n",
        "import torch.nn as nn\n",
        "import torch.optim as optim\n",
        "from sklearn.metrics import classification_report"
      ]
    },
    {
      "cell_type": "markdown",
      "source": [
        "### Step 2: Mount Google Drive (optional, but useful)\n"
      ],
      "metadata": {
        "id": "Mo_ZmlFx5RwX"
      }
    },
    {
      "cell_type": "code",
      "source": [
        "# Step 2: Mount Google Drive (optional, but useful)\n",
        "from google.colab import drive\n",
        "drive.mount('/content/drive')"
      ],
      "metadata": {
        "colab": {
          "base_uri": "https://localhost:8080/"
        },
        "id": "TA0OLw3S5bG8",
        "outputId": "1ce11e53-2440-41f3-cd09-4fa255da9cf8"
      },
      "execution_count": 4,
      "outputs": [
        {
          "output_type": "stream",
          "name": "stdout",
          "text": [
            "Drive already mounted at /content/drive; to attempt to forcibly remount, call drive.mount(\"/content/drive\", force_remount=True).\n"
          ]
        }
      ]
    },
    {
      "cell_type": "markdown",
      "source": [
        "### Step 3: Organize your image dataset like this in Drive:"
      ],
      "metadata": {
        "id": "bhPS-yQU5epq"
      }
    },
    {
      "cell_type": "code",
      "source": [
        "# Class names\n",
        "class_names = ['chicken', 'duck']\n",
        "\n",
        "# Path to dataset\n",
        "base_path = '/content/drive/MyDrive/chicken_duck_dataset'\n",
        "\n",
        "# Image transforms (ResNet expects 224x224, normalized)\n",
        "transform = transforms.Compose([\n",
        "    transforms.Resize((224, 224)),\n",
        "    transforms.ToTensor(),\n",
        "    transforms.Normalize([0.485, 0.456, 0.406],\n",
        "                         [0.229, 0.224, 0.225])\n",
        "])"
      ],
      "metadata": {
        "id": "BJNjyILf5hyU"
      },
      "execution_count": 5,
      "outputs": []
    },
    {
      "cell_type": "markdown",
      "source": [
        "### Step 4: Load dataset and create dataloaders"
      ],
      "metadata": {
        "id": "TG492yoj5pzh"
      }
    },
    {
      "cell_type": "code",
      "source": [
        "class DuckChickenDataset(Dataset):\n",
        "    def __init__(self, chicken_dir, duck_dir, transform=None):\n",
        "        self.chicken_images = glob.glob(os.path.join(chicken_dir, '*'))\n",
        "        self.duck_images = glob.glob(os.path.join(duck_dir, '*'))\n",
        "        self.images = self.chicken_images + self.duck_images\n",
        "        self.labels = [0] * len(self.chicken_images) + [1] * len(self.duck_images)\n",
        "        self.transform = transform\n",
        "        self.loader = default_loader\n",
        "\n",
        "    def __len__(self):\n",
        "        return len(self.images)\n",
        "\n",
        "    def __getitem__(self, idx):\n",
        "        path = self.images[idx]\n",
        "        label = self.labels[idx]\n",
        "        image = self.loader(path)\n",
        "        if self.transform:\n",
        "            image = self.transform(image)\n",
        "        return image, label"
      ],
      "metadata": {
        "id": "4lrQRPxqA_91"
      },
      "execution_count": 6,
      "outputs": []
    },
    {
      "cell_type": "code",
      "source": [
        "# Load datasets\n",
        "train_dataset = DuckChickenDataset(\n",
        "    chicken_dir=os.path.join(base_path, 'chicken/train'),\n",
        "    duck_dir=os.path.join(base_path, 'duck/train'),\n",
        "    transform=transform\n",
        ")\n",
        "\n",
        "val_dataset = DuckChickenDataset(\n",
        "    chicken_dir=os.path.join(base_path, 'chicken/val'),\n",
        "    duck_dir=os.path.join(base_path, 'duck/val'),\n",
        "    transform=transform\n",
        ")\n",
        "\n",
        "test_dataset = DuckChickenDataset(\n",
        "    chicken_dir=os.path.join(base_path, 'chicken/test'),\n",
        "    duck_dir=os.path.join(base_path, 'duck/test'),\n",
        "    transform=transform\n",
        ")"
      ],
      "metadata": {
        "id": "Fg9Kt-4kBD3v"
      },
      "execution_count": 7,
      "outputs": []
    },
    {
      "cell_type": "code",
      "source": [
        "# Loaders\n",
        "train_loader = DataLoader(train_dataset, batch_size=16, shuffle=True)\n",
        "val_loader = DataLoader(val_dataset, batch_size=16, shuffle=False)\n",
        "test_loader = DataLoader(test_dataset, batch_size=16, shuffle=False)\n",
        "\n",
        "print(f\"Loaded data: Train={len(train_dataset)}, Val={len(val_dataset)}, Test={len(test_dataset)}\")"
      ],
      "metadata": {
        "colab": {
          "base_uri": "https://localhost:8080/"
        },
        "id": "6CytXt0AE8oh",
        "outputId": "22dd576f-4cc5-4ae3-eeda-953887cab6c3"
      },
      "execution_count": 8,
      "outputs": [
        {
          "output_type": "stream",
          "name": "stdout",
          "text": [
            "Loaded data: Train=897, Val=161, Test=482\n"
          ]
        }
      ]
    },
    {
      "cell_type": "markdown",
      "source": [
        "### Step 5: Load pre-trained ResNet18 and modify final layer"
      ],
      "metadata": {
        "id": "7x-iY4Er5wi2"
      }
    },
    {
      "cell_type": "code",
      "source": [
        "import warnings\n",
        "warnings.filterwarnings(\"ignore\")\n",
        "\n",
        "# Device\n",
        "device = torch.device(\"cuda\" if torch.cuda.is_available() else \"cpu\")\n",
        "print(\"Using device:\", device)\n",
        "\n",
        "# Load pretrained ResNet18 and modify last layer\n",
        "model = models.resnet18(pretrained=True)\n",
        "for param in model.parameters():\n",
        "    param.requires_grad = False  # freeze everything\n",
        "\n",
        "# Replace final layer with 2-class output\n",
        "model.fc = nn.Linear(model.fc.in_features, 2)\n",
        "model = model.to(device)"
      ],
      "metadata": {
        "id": "WndL7KI753mI",
        "colab": {
          "base_uri": "https://localhost:8080/"
        },
        "outputId": "910a2770-a2aa-44d9-87eb-b61215df3eb9"
      },
      "execution_count": 9,
      "outputs": [
        {
          "output_type": "stream",
          "name": "stdout",
          "text": [
            "Using device: cuda\n"
          ]
        },
        {
          "output_type": "stream",
          "name": "stderr",
          "text": [
            "Downloading: \"https://download.pytorch.org/models/resnet18-f37072fd.pth\" to /root/.cache/torch/hub/checkpoints/resnet18-f37072fd.pth\n",
            "100%|██████████| 44.7M/44.7M [00:00<00:00, 142MB/s]\n"
          ]
        }
      ]
    },
    {
      "cell_type": "markdown",
      "source": [
        "### Step 6: Define loss, optimizer, and train the model"
      ],
      "metadata": {
        "id": "3OrK1YR353TV"
      }
    },
    {
      "cell_type": "code",
      "source": [
        "criterion = nn.CrossEntropyLoss()\n",
        "optimizer = optim.Adam(model.fc.parameters(), lr=0.001)\n",
        "\n",
        "def evaluate_model(model, loader, phase='Test'):\n",
        "    model.eval()\n",
        "    all_preds = []\n",
        "    all_labels = []\n",
        "\n",
        "    with torch.no_grad():\n",
        "        for inputs, labels in loader:\n",
        "            inputs = inputs.to(device)\n",
        "            outputs = model(inputs)\n",
        "            _, preds = torch.max(outputs, 1)\n",
        "            all_preds.extend(preds.cpu().numpy())\n",
        "            all_labels.extend(labels.numpy())\n",
        "\n",
        "    print(f\"\\n📊 {phase} Classification Report:\")\n",
        "    print(classification_report(all_labels, all_preds, target_names=class_names))\n",
        "\n",
        "def train_model(model, train_loader, val_loader, criterion, optimizer, epochs=5):\n",
        "    for epoch in range(epochs):\n",
        "        model.train()\n",
        "        running_loss = 0.0\n",
        "\n",
        "        for inputs, labels in train_loader:\n",
        "            inputs, labels = inputs.to(device), labels.to(device)\n",
        "\n",
        "            optimizer.zero_grad()\n",
        "            outputs = model(inputs)\n",
        "            loss = criterion(outputs, labels)\n",
        "            loss.backward()\n",
        "            optimizer.step()\n",
        "\n",
        "            running_loss += loss.item()\n",
        "\n",
        "        print(f\"📈 Epoch [{epoch+1}/{epochs}] - Loss: {running_loss/len(train_loader):.4f}\")\n",
        "        evaluate_model(model, val_loader, phase='Validation')"
      ],
      "metadata": {
        "id": "4j_IYu8t5-cW"
      },
      "execution_count": null,
      "outputs": []
    },
    {
      "cell_type": "code",
      "source": [
        "# Train for 5 epochs\n",
        "train_model(model, train_loader, val_loader, criterion, optimizer, epochs=10)\n",
        "\n",
        "# Final evaluation on test data\n",
        "evaluate_model(model, test_loader, phase='Test')"
      ],
      "metadata": {
        "id": "Z8Txw5fq6Chf",
        "colab": {
          "base_uri": "https://localhost:8080/"
        },
        "outputId": "af9f11fe-398d-4ab0-fa78-3f9fbe5b018b"
      },
      "execution_count": null,
      "outputs": [
        {
          "output_type": "stream",
          "name": "stdout",
          "text": [
            "📈 Epoch [1/10] - Loss: 0.1482\n",
            "\n",
            "📊 Validation Classification Report:\n",
            "              precision    recall  f1-score   support\n",
            "\n",
            "     chicken       0.88      0.88      0.88        52\n",
            "        duck       0.94      0.94      0.94       109\n",
            "\n",
            "    accuracy                           0.93       161\n",
            "   macro avg       0.91      0.91      0.91       161\n",
            "weighted avg       0.93      0.93      0.93       161\n",
            "\n",
            "📈 Epoch [2/10] - Loss: 0.1897\n",
            "\n",
            "📊 Validation Classification Report:\n",
            "              precision    recall  f1-score   support\n",
            "\n",
            "     chicken       0.98      0.79      0.87        52\n",
            "        duck       0.91      0.99      0.95       109\n",
            "\n",
            "    accuracy                           0.93       161\n",
            "   macro avg       0.94      0.89      0.91       161\n",
            "weighted avg       0.93      0.93      0.92       161\n",
            "\n",
            "📈 Epoch [3/10] - Loss: 0.1159\n",
            "\n",
            "📊 Validation Classification Report:\n",
            "              precision    recall  f1-score   support\n",
            "\n",
            "     chicken       0.98      0.77      0.86        52\n",
            "        duck       0.90      0.99      0.94       109\n",
            "\n",
            "    accuracy                           0.92       161\n",
            "   macro avg       0.94      0.88      0.90       161\n",
            "weighted avg       0.92      0.92      0.92       161\n",
            "\n",
            "📈 Epoch [4/10] - Loss: 0.1079\n",
            "\n",
            "📊 Validation Classification Report:\n",
            "              precision    recall  f1-score   support\n",
            "\n",
            "     chicken       0.98      0.79      0.87        52\n",
            "        duck       0.91      0.99      0.95       109\n",
            "\n",
            "    accuracy                           0.93       161\n",
            "   macro avg       0.94      0.89      0.91       161\n",
            "weighted avg       0.93      0.93      0.92       161\n",
            "\n",
            "📈 Epoch [5/10] - Loss: 0.1331\n",
            "\n",
            "📊 Validation Classification Report:\n",
            "              precision    recall  f1-score   support\n",
            "\n",
            "     chicken       0.96      0.87      0.91        52\n",
            "        duck       0.94      0.98      0.96       109\n",
            "\n",
            "    accuracy                           0.94       161\n",
            "   macro avg       0.95      0.92      0.93       161\n",
            "weighted avg       0.94      0.94      0.94       161\n",
            "\n",
            "📈 Epoch [6/10] - Loss: 0.1561\n",
            "\n",
            "📊 Validation Classification Report:\n",
            "              precision    recall  f1-score   support\n",
            "\n",
            "     chicken       0.96      0.87      0.91        52\n",
            "        duck       0.94      0.98      0.96       109\n",
            "\n",
            "    accuracy                           0.94       161\n",
            "   macro avg       0.95      0.92      0.93       161\n",
            "weighted avg       0.94      0.94      0.94       161\n",
            "\n",
            "📈 Epoch [7/10] - Loss: 0.1119\n",
            "\n",
            "📊 Validation Classification Report:\n",
            "              precision    recall  f1-score   support\n",
            "\n",
            "     chicken       0.93      0.83      0.88        52\n",
            "        duck       0.92      0.97      0.95       109\n",
            "\n",
            "    accuracy                           0.93       161\n",
            "   macro avg       0.93      0.90      0.91       161\n",
            "weighted avg       0.93      0.93      0.92       161\n",
            "\n",
            "📈 Epoch [8/10] - Loss: 0.0880\n",
            "\n",
            "📊 Validation Classification Report:\n",
            "              precision    recall  f1-score   support\n",
            "\n",
            "     chicken       1.00      0.69      0.82        52\n",
            "        duck       0.87      1.00      0.93       109\n",
            "\n",
            "    accuracy                           0.90       161\n",
            "   macro avg       0.94      0.85      0.87       161\n",
            "weighted avg       0.91      0.90      0.89       161\n",
            "\n",
            "📈 Epoch [9/10] - Loss: 0.1143\n",
            "\n",
            "📊 Validation Classification Report:\n",
            "              precision    recall  f1-score   support\n",
            "\n",
            "     chicken       0.98      0.81      0.88        52\n",
            "        duck       0.92      0.99      0.95       109\n",
            "\n",
            "    accuracy                           0.93       161\n",
            "   macro avg       0.95      0.90      0.92       161\n",
            "weighted avg       0.94      0.93      0.93       161\n",
            "\n",
            "📈 Epoch [10/10] - Loss: 0.1278\n",
            "\n",
            "📊 Validation Classification Report:\n",
            "              precision    recall  f1-score   support\n",
            "\n",
            "     chicken       1.00      0.79      0.88        52\n",
            "        duck       0.91      1.00      0.95       109\n",
            "\n",
            "    accuracy                           0.93       161\n",
            "   macro avg       0.95      0.89      0.92       161\n",
            "weighted avg       0.94      0.93      0.93       161\n",
            "\n",
            "\n",
            "📊 Test Classification Report:\n",
            "              precision    recall  f1-score   support\n",
            "\n",
            "     chicken       0.99      0.90      0.94       172\n",
            "        duck       0.94      0.99      0.97       310\n",
            "\n",
            "    accuracy                           0.96       482\n",
            "   macro avg       0.97      0.94      0.95       482\n",
            "weighted avg       0.96      0.96      0.96       482\n",
            "\n"
          ]
        }
      ]
    }
  ]
}